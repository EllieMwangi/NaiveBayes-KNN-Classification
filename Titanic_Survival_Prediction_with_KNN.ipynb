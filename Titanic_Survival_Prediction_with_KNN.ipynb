{
  "nbformat": 4,
  "nbformat_minor": 0,
  "metadata": {
    "colab": {
      "name": "Titanic Survival Prediction with KNN",
      "provenance": [],
      "authorship_tag": "ABX9TyMiNmGsKnrvSaKYIhCH552e",
      "include_colab_link": true
    },
    "kernelspec": {
      "name": "python3",
      "display_name": "Python 3"
    }
  },
  "cells": [
    {
      "cell_type": "markdown",
      "metadata": {
        "id": "view-in-github",
        "colab_type": "text"
      },
      "source": [
        "<a href=\"https://colab.research.google.com/github/EllieMwangi/NaiveBayes-KNN-Classification/blob/main/Titanic_Survival_Prediction_with_KNN.ipynb\" target=\"_parent\"><img src=\"https://colab.research.google.com/assets/colab-badge.svg\" alt=\"Open In Colab\"/></a>"
      ]
    },
    {
      "cell_type": "markdown",
      "metadata": {
        "id": "qqd1sAHQSVjQ"
      },
      "source": [
        "# Titanic Survival Prediction"
      ]
    },
    {
      "cell_type": "markdown",
      "metadata": {
        "id": "KgHS97BGSVi7"
      },
      "source": [
        "### Specifying Analysis Question\n",
        "\n",
        "\n"
      ]
    },
    {
      "cell_type": "markdown",
      "metadata": {
        "id": "hutsO7qWU2XY"
      },
      "source": [
        "Using data from the titanic shipwreck, build a model that predicts whether a passenger survived or not. "
      ]
    },
    {
      "cell_type": "markdown",
      "metadata": {
        "id": "MJdESKLCSVZB"
      },
      "source": [
        "### Defining the Metrics of Success"
      ]
    },
    {
      "cell_type": "markdown",
      "metadata": {
        "id": "D4tsW1ZHUzpA"
      },
      "source": [
        ""
      ]
    },
    {
      "cell_type": "markdown",
      "metadata": {
        "id": "PJ6fDnkZSVYq"
      },
      "source": [
        "### Understanding the context"
      ]
    },
    {
      "cell_type": "markdown",
      "metadata": {
        "id": "-8b9xMKZUr-n"
      },
      "source": [
        "\n",
        "The sinking of the Titanic is one of the most infamous shipwrecks in history.\n",
        "\n",
        "On April 15, 1912, during her maiden voyage, the widely considered “unsinkable” RMS Titanic sank after colliding with an iceberg. Unfortunately, there weren’t enough lifeboats for everyone onboard, resulting in the death of 1502 out of 2224 passengers and crew.\n",
        "\n",
        "While there was some element of luck involved in surviving, it seems some groups of people were more likely to survive than others.\n",
        "\n",
        "In this notebook, I seek to build a predictive model that answers the question: “what sorts of people were more likely to survive?” using passenger data (ie name, age, gender, socio-economic class, etc)."
      ]
    },
    {
      "cell_type": "markdown",
      "metadata": {
        "id": "kUsCsYdhSVQD"
      },
      "source": [
        "### Recording the Experimental Design\n",
        "\n",
        "\n"
      ]
    },
    {
      "cell_type": "markdown",
      "metadata": {
        "id": "RHimaJDhSVPq"
      },
      "source": [
        "\n",
        "- Load Data\n",
        "- Data Cleaning\n",
        "- Exploratory Data Analysis\n",
        "- Data Modelling\n",
        "- Model Evaluation\n",
        "- Model improvement and tuning\n",
        "- Conclusion\n",
        "- Challenging the solution"
      ]
    },
    {
      "cell_type": "markdown",
      "metadata": {
        "id": "lNQNgVLMSVDg"
      },
      "source": [
        "## Data Loading"
      ]
    },
    {
      "cell_type": "code",
      "metadata": {
        "id": "lFc8rcyvSKY_",
        "outputId": "52143968-317a-404b-d0db-d8ba1ad47618",
        "colab": {
          "base_uri": "https://localhost:8080/",
          "height": 102
        }
      },
      "source": [
        "# Import Libraries\n",
        "\n",
        "import pandas as pd\n",
        "import numpy as np\n",
        "import matplotlib.pyplot as plt\n",
        "import seaborn as sns\n",
        "import warnings\n",
        "from imblearn.over_sampling import SMOTE\n",
        "from sklearn.preprocessing import RobustScaler, StandardScaler\n",
        "from sklearn.neighbors import KNeighborsClassifier\n",
        "from sklearn.model_selection import train_test_split, GridSearchCV\n",
        "from sklearn.discriminant_analysis import LinearDiscriminantAnalysis\n",
        "from sklearn.metrics import accuracy_score, confusion_matrix, classification_report, roc_auc_score\n",
        "\n",
        "# Set global parameters\n",
        "%matplotlib inline\n",
        "sns.set()\n",
        "plt.rcParams['figure.figsize'] = (10.0, 8.0)\n",
        "warnings.filterwarnings('ignore')"
      ],
      "execution_count": 1,
      "outputs": [
        {
          "output_type": "stream",
          "text": [
            "/usr/local/lib/python3.6/dist-packages/sklearn/externals/six.py:31: FutureWarning: The module is deprecated in version 0.21 and will be removed in version 0.23 since we've dropped support for Python 2.7. Please rely on the official version of six (https://pypi.org/project/six/).\n",
            "  \"(https://pypi.org/project/six/).\", FutureWarning)\n",
            "/usr/local/lib/python3.6/dist-packages/sklearn/utils/deprecation.py:144: FutureWarning: The sklearn.neighbors.base module is  deprecated in version 0.22 and will be removed in version 0.24. The corresponding classes / functions should instead be imported from sklearn.neighbors. Anything that cannot be imported from sklearn.neighbors is now part of the private API.\n",
            "  warnings.warn(message, FutureWarning)\n"
          ],
          "name": "stderr"
        }
      ]
    },
    {
      "cell_type": "code",
      "metadata": {
        "id": "M1kgD2OzWeuB"
      },
      "source": [
        "# Load data\n",
        "titanicdt = pd.read_csv('titanic_data.csv')"
      ],
      "execution_count": 2,
      "outputs": []
    },
    {
      "cell_type": "code",
      "metadata": {
        "id": "FesqwyMkWe2u",
        "outputId": "00d6f818-bfac-4e6f-e49a-1218ad736657",
        "colab": {
          "base_uri": "https://localhost:8080/",
          "height": 191
        }
      },
      "source": [
        "# Preview data\n",
        "titanicdt.head()"
      ],
      "execution_count": 3,
      "outputs": [
        {
          "output_type": "execute_result",
          "data": {
            "text/html": [
              "<div>\n",
              "<style scoped>\n",
              "    .dataframe tbody tr th:only-of-type {\n",
              "        vertical-align: middle;\n",
              "    }\n",
              "\n",
              "    .dataframe tbody tr th {\n",
              "        vertical-align: top;\n",
              "    }\n",
              "\n",
              "    .dataframe thead th {\n",
              "        text-align: right;\n",
              "    }\n",
              "</style>\n",
              "<table border=\"1\" class=\"dataframe\">\n",
              "  <thead>\n",
              "    <tr style=\"text-align: right;\">\n",
              "      <th></th>\n",
              "      <th>PassengerId</th>\n",
              "      <th>Survived</th>\n",
              "      <th>Pclass</th>\n",
              "      <th>Name</th>\n",
              "      <th>Sex</th>\n",
              "      <th>Age</th>\n",
              "      <th>SibSp</th>\n",
              "      <th>Parch</th>\n",
              "      <th>Ticket</th>\n",
              "      <th>Fare</th>\n",
              "      <th>Cabin</th>\n",
              "      <th>Embarked</th>\n",
              "    </tr>\n",
              "  </thead>\n",
              "  <tbody>\n",
              "    <tr>\n",
              "      <th>0</th>\n",
              "      <td>1</td>\n",
              "      <td>0</td>\n",
              "      <td>3</td>\n",
              "      <td>Braund, Mr. Owen Harris</td>\n",
              "      <td>male</td>\n",
              "      <td>22.0</td>\n",
              "      <td>1</td>\n",
              "      <td>0</td>\n",
              "      <td>A/5 21171</td>\n",
              "      <td>7.2500</td>\n",
              "      <td>NaN</td>\n",
              "      <td>S</td>\n",
              "    </tr>\n",
              "    <tr>\n",
              "      <th>1</th>\n",
              "      <td>2</td>\n",
              "      <td>1</td>\n",
              "      <td>1</td>\n",
              "      <td>Cumings, Mrs. John Bradley (Florence Briggs Th...</td>\n",
              "      <td>female</td>\n",
              "      <td>38.0</td>\n",
              "      <td>1</td>\n",
              "      <td>0</td>\n",
              "      <td>PC 17599</td>\n",
              "      <td>71.2833</td>\n",
              "      <td>C85</td>\n",
              "      <td>C</td>\n",
              "    </tr>\n",
              "    <tr>\n",
              "      <th>2</th>\n",
              "      <td>3</td>\n",
              "      <td>1</td>\n",
              "      <td>3</td>\n",
              "      <td>Heikkinen, Miss. Laina</td>\n",
              "      <td>female</td>\n",
              "      <td>26.0</td>\n",
              "      <td>0</td>\n",
              "      <td>0</td>\n",
              "      <td>STON/O2. 3101282</td>\n",
              "      <td>7.9250</td>\n",
              "      <td>NaN</td>\n",
              "      <td>S</td>\n",
              "    </tr>\n",
              "    <tr>\n",
              "      <th>3</th>\n",
              "      <td>4</td>\n",
              "      <td>1</td>\n",
              "      <td>1</td>\n",
              "      <td>Futrelle, Mrs. Jacques Heath (Lily May Peel)</td>\n",
              "      <td>female</td>\n",
              "      <td>35.0</td>\n",
              "      <td>1</td>\n",
              "      <td>0</td>\n",
              "      <td>113803</td>\n",
              "      <td>53.1000</td>\n",
              "      <td>C123</td>\n",
              "      <td>S</td>\n",
              "    </tr>\n",
              "    <tr>\n",
              "      <th>4</th>\n",
              "      <td>5</td>\n",
              "      <td>0</td>\n",
              "      <td>3</td>\n",
              "      <td>Allen, Mr. William Henry</td>\n",
              "      <td>male</td>\n",
              "      <td>35.0</td>\n",
              "      <td>0</td>\n",
              "      <td>0</td>\n",
              "      <td>373450</td>\n",
              "      <td>8.0500</td>\n",
              "      <td>NaN</td>\n",
              "      <td>S</td>\n",
              "    </tr>\n",
              "  </tbody>\n",
              "</table>\n",
              "</div>"
            ],
            "text/plain": [
              "   PassengerId  Survived  Pclass  ...     Fare Cabin  Embarked\n",
              "0            1         0       3  ...   7.2500   NaN         S\n",
              "1            2         1       1  ...  71.2833   C85         C\n",
              "2            3         1       3  ...   7.9250   NaN         S\n",
              "3            4         1       1  ...  53.1000  C123         S\n",
              "4            5         0       3  ...   8.0500   NaN         S\n",
              "\n",
              "[5 rows x 12 columns]"
            ]
          },
          "metadata": {
            "tags": []
          },
          "execution_count": 3
        }
      ]
    },
    {
      "cell_type": "code",
      "metadata": {
        "id": "kM3mFNBpWe10",
        "outputId": "0bb21368-1f75-4290-80e5-a05670b1792c",
        "colab": {
          "base_uri": "https://localhost:8080/",
          "height": 191
        }
      },
      "source": [
        "titanicdt.tail()"
      ],
      "execution_count": 4,
      "outputs": [
        {
          "output_type": "execute_result",
          "data": {
            "text/html": [
              "<div>\n",
              "<style scoped>\n",
              "    .dataframe tbody tr th:only-of-type {\n",
              "        vertical-align: middle;\n",
              "    }\n",
              "\n",
              "    .dataframe tbody tr th {\n",
              "        vertical-align: top;\n",
              "    }\n",
              "\n",
              "    .dataframe thead th {\n",
              "        text-align: right;\n",
              "    }\n",
              "</style>\n",
              "<table border=\"1\" class=\"dataframe\">\n",
              "  <thead>\n",
              "    <tr style=\"text-align: right;\">\n",
              "      <th></th>\n",
              "      <th>PassengerId</th>\n",
              "      <th>Survived</th>\n",
              "      <th>Pclass</th>\n",
              "      <th>Name</th>\n",
              "      <th>Sex</th>\n",
              "      <th>Age</th>\n",
              "      <th>SibSp</th>\n",
              "      <th>Parch</th>\n",
              "      <th>Ticket</th>\n",
              "      <th>Fare</th>\n",
              "      <th>Cabin</th>\n",
              "      <th>Embarked</th>\n",
              "    </tr>\n",
              "  </thead>\n",
              "  <tbody>\n",
              "    <tr>\n",
              "      <th>886</th>\n",
              "      <td>887</td>\n",
              "      <td>0</td>\n",
              "      <td>2</td>\n",
              "      <td>Montvila, Rev. Juozas</td>\n",
              "      <td>male</td>\n",
              "      <td>27.0</td>\n",
              "      <td>0</td>\n",
              "      <td>0</td>\n",
              "      <td>211536</td>\n",
              "      <td>13.00</td>\n",
              "      <td>NaN</td>\n",
              "      <td>S</td>\n",
              "    </tr>\n",
              "    <tr>\n",
              "      <th>887</th>\n",
              "      <td>888</td>\n",
              "      <td>1</td>\n",
              "      <td>1</td>\n",
              "      <td>Graham, Miss. Margaret Edith</td>\n",
              "      <td>female</td>\n",
              "      <td>19.0</td>\n",
              "      <td>0</td>\n",
              "      <td>0</td>\n",
              "      <td>112053</td>\n",
              "      <td>30.00</td>\n",
              "      <td>B42</td>\n",
              "      <td>S</td>\n",
              "    </tr>\n",
              "    <tr>\n",
              "      <th>888</th>\n",
              "      <td>889</td>\n",
              "      <td>0</td>\n",
              "      <td>3</td>\n",
              "      <td>Johnston, Miss. Catherine Helen \"Carrie\"</td>\n",
              "      <td>female</td>\n",
              "      <td>NaN</td>\n",
              "      <td>1</td>\n",
              "      <td>2</td>\n",
              "      <td>W./C. 6607</td>\n",
              "      <td>23.45</td>\n",
              "      <td>NaN</td>\n",
              "      <td>S</td>\n",
              "    </tr>\n",
              "    <tr>\n",
              "      <th>889</th>\n",
              "      <td>890</td>\n",
              "      <td>1</td>\n",
              "      <td>1</td>\n",
              "      <td>Behr, Mr. Karl Howell</td>\n",
              "      <td>male</td>\n",
              "      <td>26.0</td>\n",
              "      <td>0</td>\n",
              "      <td>0</td>\n",
              "      <td>111369</td>\n",
              "      <td>30.00</td>\n",
              "      <td>C148</td>\n",
              "      <td>C</td>\n",
              "    </tr>\n",
              "    <tr>\n",
              "      <th>890</th>\n",
              "      <td>891</td>\n",
              "      <td>0</td>\n",
              "      <td>3</td>\n",
              "      <td>Dooley, Mr. Patrick</td>\n",
              "      <td>male</td>\n",
              "      <td>32.0</td>\n",
              "      <td>0</td>\n",
              "      <td>0</td>\n",
              "      <td>370376</td>\n",
              "      <td>7.75</td>\n",
              "      <td>NaN</td>\n",
              "      <td>Q</td>\n",
              "    </tr>\n",
              "  </tbody>\n",
              "</table>\n",
              "</div>"
            ],
            "text/plain": [
              "     PassengerId  Survived  Pclass  ...   Fare Cabin  Embarked\n",
              "886          887         0       2  ...  13.00   NaN         S\n",
              "887          888         1       1  ...  30.00   B42         S\n",
              "888          889         0       3  ...  23.45   NaN         S\n",
              "889          890         1       1  ...  30.00  C148         C\n",
              "890          891         0       3  ...   7.75   NaN         Q\n",
              "\n",
              "[5 rows x 12 columns]"
            ]
          },
          "metadata": {
            "tags": []
          },
          "execution_count": 4
        }
      ]
    },
    {
      "cell_type": "code",
      "metadata": {
        "id": "59P6k6WxXhQE",
        "outputId": "76b400b0-f56a-446b-f681-e7e417226df4",
        "colab": {
          "base_uri": "https://localhost:8080/",
          "height": 33
        }
      },
      "source": [
        "# Shape of dataset\n",
        "titanicdt.shape"
      ],
      "execution_count": 5,
      "outputs": [
        {
          "output_type": "execute_result",
          "data": {
            "text/plain": [
              "(891, 12)"
            ]
          },
          "metadata": {
            "tags": []
          },
          "execution_count": 5
        }
      ]
    },
    {
      "cell_type": "code",
      "metadata": {
        "id": "5o41IUS6Wesr",
        "outputId": "ab6e3b1a-1e91-47f1-dba9-3fdf3476d2e2",
        "colab": {
          "base_uri": "https://localhost:8080/",
          "height": 326
        }
      },
      "source": [
        "# Information about the dataset\n",
        "titanicdt.info()"
      ],
      "execution_count": 6,
      "outputs": [
        {
          "output_type": "stream",
          "text": [
            "<class 'pandas.core.frame.DataFrame'>\n",
            "RangeIndex: 891 entries, 0 to 890\n",
            "Data columns (total 12 columns):\n",
            " #   Column       Non-Null Count  Dtype  \n",
            "---  ------       --------------  -----  \n",
            " 0   PassengerId  891 non-null    int64  \n",
            " 1   Survived     891 non-null    int64  \n",
            " 2   Pclass       891 non-null    int64  \n",
            " 3   Name         891 non-null    object \n",
            " 4   Sex          891 non-null    object \n",
            " 5   Age          714 non-null    float64\n",
            " 6   SibSp        891 non-null    int64  \n",
            " 7   Parch        891 non-null    int64  \n",
            " 8   Ticket       891 non-null    object \n",
            " 9   Fare         891 non-null    float64\n",
            " 10  Cabin        204 non-null    object \n",
            " 11  Embarked     889 non-null    object \n",
            "dtypes: float64(2), int64(5), object(5)\n",
            "memory usage: 83.7+ KB\n"
          ],
          "name": "stdout"
        }
      ]
    },
    {
      "cell_type": "code",
      "metadata": {
        "id": "lT0szINSXTWA",
        "outputId": "31b20138-7492-43cc-df5f-a1d418989d68",
        "colab": {
          "base_uri": "https://localhost:8080/",
          "height": 228
        }
      },
      "source": [
        "# Check for missing values\n",
        "titanicdt.isnull().sum().sort_values(ascending=False)/titanicdt.shape[0] * 100"
      ],
      "execution_count": 7,
      "outputs": [
        {
          "output_type": "execute_result",
          "data": {
            "text/plain": [
              "Cabin          77.104377\n",
              "Age            19.865320\n",
              "Embarked        0.224467\n",
              "Fare            0.000000\n",
              "Ticket          0.000000\n",
              "Parch           0.000000\n",
              "SibSp           0.000000\n",
              "Sex             0.000000\n",
              "Name            0.000000\n",
              "Pclass          0.000000\n",
              "Survived        0.000000\n",
              "PassengerId     0.000000\n",
              "dtype: float64"
            ]
          },
          "metadata": {
            "tags": []
          },
          "execution_count": 7
        }
      ]
    },
    {
      "cell_type": "markdown",
      "metadata": {
        "id": "1OfXVdCPX7Yt"
      },
      "source": [
        "The cabin, age and embarked columns have the largest percentages of missing values."
      ]
    },
    {
      "cell_type": "code",
      "metadata": {
        "id": "_OJTCTXdX42W",
        "outputId": "b140a9f1-8fba-4d05-c7ad-a1a1cf476ec0",
        "colab": {
          "base_uri": "https://localhost:8080/",
          "height": 33
        }
      },
      "source": [
        "# Check for duplicates\n",
        "titanicdt.duplicated().any()"
      ],
      "execution_count": 8,
      "outputs": [
        {
          "output_type": "execute_result",
          "data": {
            "text/plain": [
              "False"
            ]
          },
          "metadata": {
            "tags": []
          },
          "execution_count": 8
        }
      ]
    },
    {
      "cell_type": "code",
      "metadata": {
        "id": "z_A_H4JIYSCt",
        "outputId": "6a52cca0-9b8a-4a05-ffa2-b7900f713747",
        "colab": {
          "base_uri": "https://localhost:8080/",
          "height": 813
        }
      },
      "source": [
        "# Check for unique values in each column\n",
        "columns = ['Survived', 'Pclass','Sex', 'Age', 'SibSp','Parch', 'Embarked']\n",
        "\n",
        "for col in columns:\n",
        "  print(f'Column: {col} \\n')\n",
        "  print(f'Number of unique values: {titanicdt[col].nunique()}\\n')\n",
        "  print(f'Unique values: {titanicdt[col].unique()}\\n')\n",
        "\n"
      ],
      "execution_count": 9,
      "outputs": [
        {
          "output_type": "stream",
          "text": [
            "Column: Survived \n",
            "\n",
            "Number of unique values: 2\n",
            "\n",
            "Unique values: [0 1]\n",
            "\n",
            "Column: Pclass \n",
            "\n",
            "Number of unique values: 3\n",
            "\n",
            "Unique values: [3 1 2]\n",
            "\n",
            "Column: Sex \n",
            "\n",
            "Number of unique values: 2\n",
            "\n",
            "Unique values: ['male' 'female']\n",
            "\n",
            "Column: Age \n",
            "\n",
            "Number of unique values: 88\n",
            "\n",
            "Unique values: [22.   38.   26.   35.     nan 54.    2.   27.   14.    4.   58.   20.\n",
            " 39.   55.   31.   34.   15.   28.    8.   19.   40.   66.   42.   21.\n",
            " 18.    3.    7.   49.   29.   65.   28.5   5.   11.   45.   17.   32.\n",
            " 16.   25.    0.83 30.   33.   23.   24.   46.   59.   71.   37.   47.\n",
            " 14.5  70.5  32.5  12.    9.   36.5  51.   55.5  40.5  44.    1.   61.\n",
            " 56.   50.   36.   45.5  20.5  62.   41.   52.   63.   23.5   0.92 43.\n",
            " 60.   10.   64.   13.   48.    0.75 53.   57.   80.   70.   24.5   6.\n",
            "  0.67 30.5   0.42 34.5  74.  ]\n",
            "\n",
            "Column: SibSp \n",
            "\n",
            "Number of unique values: 7\n",
            "\n",
            "Unique values: [1 0 3 4 2 5 8]\n",
            "\n",
            "Column: Parch \n",
            "\n",
            "Number of unique values: 7\n",
            "\n",
            "Unique values: [0 1 2 5 3 4 6]\n",
            "\n",
            "Column: Embarked \n",
            "\n",
            "Number of unique values: 3\n",
            "\n",
            "Unique values: ['S' 'C' 'Q' nan]\n",
            "\n"
          ],
          "name": "stdout"
        }
      ]
    },
    {
      "cell_type": "markdown",
      "metadata": {
        "id": "0qYaiGP9ZyKE"
      },
      "source": [
        "## Data Cleaning"
      ]
    },
    {
      "cell_type": "code",
      "metadata": {
        "id": "zYcGS7y6ZQtu"
      },
      "source": [
        "'''\n",
        "Drop columns that aren't useful in our analysis:\n",
        "- PassengerId: Acts a unique identifier for each passenger and thus does not provide information about the passenger\n",
        "- Name: Similar to the passenger id\n",
        "- Ticket: Similar to passenger id and name\n",
        "- Cabin: Has 77% missing values\n",
        "'''\n",
        "to_drop = ['PassengerId', 'Name', 'Ticket','Cabin']\n",
        "titanicdt.drop(to_drop, axis=1, inplace=True)"
      ],
      "execution_count": 10,
      "outputs": []
    },
    {
      "cell_type": "code",
      "metadata": {
        "id": "VZfOBZtTZ_ZX",
        "outputId": "3f9006d4-bb11-4519-9ad0-33cf552bcc55",
        "colab": {
          "base_uri": "https://localhost:8080/",
          "height": 33
        }
      },
      "source": [
        "# Handle missing values in age and embarked columns\n",
        "# For age column determine best measure of central tendecy: mean or median\n",
        "titanicdt.Age.skew()"
      ],
      "execution_count": 11,
      "outputs": [
        {
          "output_type": "execute_result",
          "data": {
            "text/plain": [
              "0.38910778230082704"
            ]
          },
          "metadata": {
            "tags": []
          },
          "execution_count": 11
        }
      ]
    },
    {
      "cell_type": "code",
      "metadata": {
        "id": "ma0S15uRawee",
        "outputId": "c7d5e422-1163-4c73-cfaf-94c53b1c311c",
        "colab": {
          "base_uri": "https://localhost:8080/",
          "height": 317
        }
      },
      "source": [
        "sns.histplot(titanicdt.Age)\n",
        "plt.title('Passenger Age distribution')"
      ],
      "execution_count": 12,
      "outputs": [
        {
          "output_type": "execute_result",
          "data": {
            "text/plain": [
              "Text(0.5, 1.0, 'Passenger Age distribution')"
            ]
          },
          "metadata": {
            "tags": []
          },
          "execution_count": 12
        },
        {
          "output_type": "display_data",
          "data": {
            "image/png": "[encoded data removed]",
            "text/plain": [
              "<Figure size 432x288 with 1 Axes>"
            ]
          },
          "metadata": {
            "tags": [],
            "needs_background": "light"
          }
        }
      ]
    },
    {
      "cell_type": "markdown",
      "metadata": {
        "id": "VUMobI7-d5Ns"
      },
      "source": [
        "Age column is relatively normally distributed therefore age is an adequate central tendency measure."
      ]
    },
    {
      "cell_type": "code",
      "metadata": {
        "id": "_L1H0Bx7a_YH"
      },
      "source": [
        "# dictionary of what to fill null values with\n",
        "to_fill = {'Age':titanicdt.Age.mean(), 'Embarked': titanicdt.Embarked.mode()[0]}\n",
        "\n",
        "titanicdt.fillna(to_fill, inplace=True)"
      ],
      "execution_count": 13,
      "outputs": []
    },
    {
      "cell_type": "code",
      "metadata": {
        "id": "GChfBU-kfB_x",
        "outputId": "a87d1e95-6209-4efd-aae0-0671b86d03fa",
        "colab": {
          "base_uri": "https://localhost:8080/",
          "height": 342
        }
      },
      "source": [
        "# Checking for Outliers\n",
        "features = titanicdt.drop('Survived', axis=1)\n",
        "\n",
        "Q1 = features.quantile(0.25)\n",
        "Q3 = features.quantile(0.75)\n",
        "IQR = Q3 - Q1\n",
        "\n",
        "# Get percentage of outliers per column:\n",
        "for column, q1, q3,iqr in zip(Q1.index, Q1, Q3, IQR):\n",
        "  outliers = features[((features[column] < q1 - 1.5 * iqr) | (features[column] > q3 + 1.5 * iqr))]\n",
        "  outlier_percentage = outliers.shape[0] / features.shape[0] * 100\n",
        "  print(f'Column: {column} \\n')\n",
        "  print(f'Outlier %: {outlier_percentage: .2f} \\n')"
      ],
      "execution_count": 14,
      "outputs": [
        {
          "output_type": "stream",
          "text": [
            "Column: Pclass \n",
            "\n",
            "Outlier %:  0.00 \n",
            "\n",
            "Column: Age \n",
            "\n",
            "Outlier %:  7.41 \n",
            "\n",
            "Column: SibSp \n",
            "\n",
            "Outlier %:  5.16 \n",
            "\n",
            "Column: Parch \n",
            "\n",
            "Outlier %:  23.91 \n",
            "\n",
            "Column: Fare \n",
            "\n",
            "Outlier %:  13.02 \n",
            "\n"
          ],
          "name": "stdout"
        }
      ]
    },
    {
      "cell_type": "markdown",
      "metadata": {
        "id": "CakCoMuikBhc"
      },
      "source": [
        "The parent/children column has the highest number of outliers with 23.91% of the column containing outliers.  Followed by the fare and age columns."
      ]
    },
    {
      "cell_type": "code",
      "metadata": {
        "id": "4EEflwCvfGr4",
        "outputId": "241cc07d-3634-413f-a3f0-195bab9d549d",
        "colab": {
          "base_uri": "https://localhost:8080/",
          "height": 147
        }
      },
      "source": [
        "# Investigate the Parch column\n",
        "titanicdt.Parch.value_counts()"
      ],
      "execution_count": 15,
      "outputs": [
        {
          "output_type": "execute_result",
          "data": {
            "text/plain": [
              "0    678\n",
              "1    118\n",
              "2     80\n",
              "5      5\n",
              "3      5\n",
              "4      4\n",
              "6      1\n",
              "Name: Parch, dtype: int64"
            ]
          },
          "metadata": {
            "tags": []
          },
          "execution_count": 15
        }
      ]
    },
    {
      "cell_type": "markdown",
      "metadata": {
        "id": "wlNoJ5PXlKSm"
      },
      "source": [
        "Despite most passengers having 0 or 1 parents/children on board, having 3, 4, 5 or 6 children/parents on board is perfectly reasonable."
      ]
    },
    {
      "cell_type": "code",
      "metadata": {
        "id": "MJkuUWCGgSRB",
        "outputId": "68bca159-c0c9-4412-bf63-decf2b40ce6d",
        "colab": {
          "base_uri": "https://localhost:8080/",
          "height": 285
        }
      },
      "source": [
        "# Investigate the fare column\n",
        "sns.boxplot(titanicdt.Fare)\n",
        "plt.xticks(ticks=np.arange(0, 550, 25));"
      ],
      "execution_count": 16,
      "outputs": [
        {
          "output_type": "display_data",
          "data": {
            "image/png": "[encoded data removed]",
            "text/plain": [
              "<Figure size 432x288 with 1 Axes>"
            ]
          },
          "metadata": {
            "tags": [],
            "needs_background": "light"
          }
        }
      ]
    },
    {
      "cell_type": "markdown",
      "metadata": {
        "id": "RrvrH5Al68cu"
      },
      "source": [
        "Passengers who paid roughly above 68 are considered outliers, however according to this [article](https://autumnmccordckp.weebly.com/tickets-and-accomodations.html) higher priced tickets were available. "
      ]
    },
    {
      "cell_type": "markdown",
      "metadata": {
        "id": "CAWFkoXdq_yW"
      },
      "source": [
        "## Exploratory Data Analysis"
      ]
    },
    {
      "cell_type": "code",
      "metadata": {
        "id": "S0f-gFNvmKt6",
        "outputId": "891759d9-7d11-4a1c-f073-515dc22bf3c8",
        "colab": {
          "base_uri": "https://localhost:8080/",
          "height": 0
        }
      },
      "source": [
        "# Determine correlation between features\n",
        "sns.heatmap(titanicdt.corr(), vmin=-1, vmax=1, annot=True)"
      ],
      "execution_count": 17,
      "outputs": [
        {
          "output_type": "execute_result",
          "data": {
            "text/plain": [
              "<matplotlib.axes._subplots.AxesSubplot at 0x7f532d9b9c18>"
            ]
          },
          "metadata": {
            "tags": []
          },
          "execution_count": 17
        },
        {
          "output_type": "display_data",
          "data": {
            "image/png": "[encoded data removed]",
            "text/plain": [
              "<Figure size 432x288 with 2 Axes>"
            ]
          },
          "metadata": {
            "tags": [],
            "needs_background": "light"
          }
        }
      ]
    },
    {
      "cell_type": "markdown",
      "metadata": {
        "id": "EAkQmIT5ruEt"
      },
      "source": [
        "As expected there is a strong negative correlation between passenger class and fare. Passengers of upper and middle classes have higher price tickets."
      ]
    },
    {
      "cell_type": "code",
      "metadata": {
        "id": "4iGD1dlntq1l",
        "outputId": "26128020-1807-44ce-e8ef-444bdcb73965",
        "colab": {
          "base_uri": "https://localhost:8080/",
          "height": 0
        }
      },
      "source": [
        "# Relationship between passengers survival and place they embarked\n",
        "pd.crosstab(titanicdt.Survived, titanicdt.Embarked)"
      ],
      "execution_count": 18,
      "outputs": [
        {
          "output_type": "execute_result",
          "data": {
            "text/html": [
              "<div>\n",
              "<style scoped>\n",
              "    .dataframe tbody tr th:only-of-type {\n",
              "        vertical-align: middle;\n",
              "    }\n",
              "\n",
              "    .dataframe tbody tr th {\n",
              "        vertical-align: top;\n",
              "    }\n",
              "\n",
              "    .dataframe thead th {\n",
              "        text-align: right;\n",
              "    }\n",
              "</style>\n",
              "<table border=\"1\" class=\"dataframe\">\n",
              "  <thead>\n",
              "    <tr style=\"text-align: right;\">\n",
              "      <th>Embarked</th>\n",
              "      <th>C</th>\n",
              "      <th>Q</th>\n",
              "      <th>S</th>\n",
              "    </tr>\n",
              "    <tr>\n",
              "      <th>Survived</th>\n",
              "      <th></th>\n",
              "      <th></th>\n",
              "      <th></th>\n",
              "    </tr>\n",
              "  </thead>\n",
              "  <tbody>\n",
              "    <tr>\n",
              "      <th>0</th>\n",
              "      <td>75</td>\n",
              "      <td>47</td>\n",
              "      <td>427</td>\n",
              "    </tr>\n",
              "    <tr>\n",
              "      <th>1</th>\n",
              "      <td>93</td>\n",
              "      <td>30</td>\n",
              "      <td>219</td>\n",
              "    </tr>\n",
              "  </tbody>\n",
              "</table>\n",
              "</div>"
            ],
            "text/plain": [
              "Embarked   C   Q    S\n",
              "Survived             \n",
              "0         75  47  427\n",
              "1         93  30  219"
            ]
          },
          "metadata": {
            "tags": []
          },
          "execution_count": 18
        }
      ]
    },
    {
      "cell_type": "code",
      "metadata": {
        "id": "ROcleNk6rUhj",
        "outputId": "4a184934-0efc-4cca-f3f2-832518c97c79",
        "colab": {
          "base_uri": "https://localhost:8080/",
          "height": 0
        }
      },
      "source": [
        "pd.crosstab(titanicdt.Survived, titanicdt.Embarked).plot(kind='bar',stacked=True, figsize=(12,10))"
      ],
      "execution_count": 19,
      "outputs": [
        {
          "output_type": "execute_result",
          "data": {
            "text/plain": [
              "<matplotlib.axes._subplots.AxesSubplot at 0x7f532ab712b0>"
            ]
          },
          "metadata": {
            "tags": []
          },
          "execution_count": 19
        },
        {
          "output_type": "display_data",
          "data": {
            "image/png": "[encoded data removed]",
            "text/plain": [
              "<Figure size 864x720 with 1 Axes>"
            ]
          },
          "metadata": {
            "tags": [],
            "needs_background": "light"
          }
        }
      ]
    },
    {
      "cell_type": "markdown",
      "metadata": {
        "id": "URPIv2H4uLHH"
      },
      "source": [
        "A larger percentage of passengers from Cherbourg survived as opposed to passengers from Southamption and Queenstown."
      ]
    },
    {
      "cell_type": "code",
      "metadata": {
        "id": "0oRZiOCDswUV",
        "outputId": "0352a483-7a95-483c-f640-27f63951ddda",
        "colab": {
          "base_uri": "https://localhost:8080/",
          "height": 0
        }
      },
      "source": [
        "# Age distribution among passengers who perished and those who survived.\n",
        "sns.kdeplot(titanicdt.loc[titanicdt.Survived == 0, 'Age'], shade=True, color=\"red\", label=\"Perished\", alpha=.7)\n",
        "sns.kdeplot(titanicdt.loc[titanicdt.Survived == 1, 'Age'], shade=True, color=\"green\", label=\"Survived\", alpha=.7)"
      ],
      "execution_count": 20,
      "outputs": [
        {
          "output_type": "execute_result",
          "data": {
            "text/plain": [
              "<matplotlib.axes._subplots.AxesSubplot at 0x7f532ab71dd8>"
            ]
          },
          "metadata": {
            "tags": []
          },
          "execution_count": 20
        },
        {
          "output_type": "display_data",
          "data": {
            "image/png": "[encoded data removed]",
            "text/plain": [
              "<Figure size 432x288 with 1 Axes>"
            ]
          },
          "metadata": {
            "tags": [],
            "needs_background": "light"
          }
        }
      ]
    },
    {
      "cell_type": "markdown",
      "metadata": {
        "id": "-Qwt2vXMw7cz"
      },
      "source": [
        "Age distributions between passengers who survived and those who didn't are pretty similar. However a larger percentage of younger passengers survived."
      ]
    },
    {
      "cell_type": "code",
      "metadata": {
        "id": "k7XJ9DY0v4nU",
        "outputId": "78c4bcf4-9acb-473b-fc73-faaad9cb5e1c",
        "colab": {
          "base_uri": "https://localhost:8080/",
          "height": 0
        }
      },
      "source": [
        "# Fare distribution among passengers who perished and those who survived.\n",
        "sns.kdeplot(titanicdt.loc[titanicdt.Survived == 0, 'Fare'], shade=True, color=\"red\", label=\"Perished\", alpha=.7)\n",
        "sns.kdeplot(titanicdt.loc[titanicdt.Survived == 1, 'Fare'], shade=True, color=\"green\", label=\"Survived\", alpha=.7)"
      ],
      "execution_count": 21,
      "outputs": [
        {
          "output_type": "execute_result",
          "data": {
            "text/plain": [
              "<matplotlib.axes._subplots.AxesSubplot at 0x7f532aa68908>"
            ]
          },
          "metadata": {
            "tags": []
          },
          "execution_count": 21
        },
        {
          "output_type": "display_data",
          "data": {
            "image/png": "[encoded data removed]",
            "text/plain": [
              "<Figure size 432x288 with 1 Axes>"
            ]
          },
          "metadata": {
            "tags": [],
            "needs_background": "light"
          }
        }
      ]
    },
    {
      "cell_type": "markdown",
      "metadata": {
        "id": "_IiSEfMqyE_3"
      },
      "source": [
        "Passengers who perished are constricted mostly to fare prices between 0 and 100, most of the passengers who paid higher fares survived. "
      ]
    },
    {
      "cell_type": "code",
      "metadata": {
        "id": "C9w2cep9xicT",
        "outputId": "e221e06b-c2b4-43e9-9fd6-5b5d49c56771",
        "colab": {
          "base_uri": "https://localhost:8080/",
          "height": 0
        }
      },
      "source": [
        "# Relationship between passengers survival and gender\n",
        "pd.crosstab(titanicdt.Survived, titanicdt['Sex']).plot(kind='bar', stacked=True)"
      ],
      "execution_count": 22,
      "outputs": [
        {
          "output_type": "execute_result",
          "data": {
            "text/plain": [
              "<matplotlib.axes._subplots.AxesSubplot at 0x7f532aa141d0>"
            ]
          },
          "metadata": {
            "tags": []
          },
          "execution_count": 22
        },
        {
          "output_type": "display_data",
          "data": {
            "image/png": "[encoded data removed]",
            "text/plain": [
              "<Figure size 432x288 with 1 Axes>"
            ]
          },
          "metadata": {
            "tags": [],
            "needs_background": "light"
          }
        }
      ]
    },
    {
      "cell_type": "markdown",
      "metadata": {
        "id": "RF7Aupvly7mn"
      },
      "source": [
        "More females survived while more males perished."
      ]
    },
    {
      "cell_type": "code",
      "metadata": {
        "id": "SCoiQBndxpVo",
        "outputId": "55ce2a74-5e1b-4f05-dc77-610f9c181431",
        "colab": {
          "base_uri": "https://localhost:8080/",
          "height": 0
        }
      },
      "source": [
        "# Relationship between passengers survival and passenger class\n",
        "pd.crosstab(titanicdt.Survived, titanicdt['Pclass']).plot(kind='bar', stacked=True)"
      ],
      "execution_count": 23,
      "outputs": [
        {
          "output_type": "execute_result",
          "data": {
            "text/plain": [
              "<matplotlib.axes._subplots.AxesSubplot at 0x7f532a9b56d8>"
            ]
          },
          "metadata": {
            "tags": []
          },
          "execution_count": 23
        },
        {
          "output_type": "display_data",
          "data": {
            "image/png": "[encoded data removed]",
            "text/plain": [
              "<Figure size 432x288 with 1 Axes>"
            ]
          },
          "metadata": {
            "tags": [],
            "needs_background": "light"
          }
        }
      ]
    },
    {
      "cell_type": "markdown",
      "metadata": {
        "id": "6apxbhwPzctW"
      },
      "source": [
        "A larger propotion of lower class passengers perished while a larger proportion of upper class passengers survived."
      ]
    },
    {
      "cell_type": "code",
      "metadata": {
        "id": "ZBUPRQcBzQ-Q",
        "outputId": "c3917607-37cf-4071-d7af-baeaf51ff749",
        "colab": {
          "base_uri": "https://localhost:8080/",
          "height": 0
        }
      },
      "source": [
        "# Relationship between passengers survival and parch feature\n",
        "pd.crosstab(titanicdt.Survived, titanicdt['Parch'])"
      ],
      "execution_count": 24,
      "outputs": [
        {
          "output_type": "execute_result",
          "data": {
            "text/html": [
              "<div>\n",
              "<style scoped>\n",
              "    .dataframe tbody tr th:only-of-type {\n",
              "        vertical-align: middle;\n",
              "    }\n",
              "\n",
              "    .dataframe tbody tr th {\n",
              "        vertical-align: top;\n",
              "    }\n",
              "\n",
              "    .dataframe thead th {\n",
              "        text-align: right;\n",
              "    }\n",
              "</style>\n",
              "<table border=\"1\" class=\"dataframe\">\n",
              "  <thead>\n",
              "    <tr style=\"text-align: right;\">\n",
              "      <th>Parch</th>\n",
              "      <th>0</th>\n",
              "      <th>1</th>\n",
              "      <th>2</th>\n",
              "      <th>3</th>\n",
              "      <th>4</th>\n",
              "      <th>5</th>\n",
              "      <th>6</th>\n",
              "    </tr>\n",
              "    <tr>\n",
              "      <th>Survived</th>\n",
              "      <th></th>\n",
              "      <th></th>\n",
              "      <th></th>\n",
              "      <th></th>\n",
              "      <th></th>\n",
              "      <th></th>\n",
              "      <th></th>\n",
              "    </tr>\n",
              "  </thead>\n",
              "  <tbody>\n",
              "    <tr>\n",
              "      <th>0</th>\n",
              "      <td>445</td>\n",
              "      <td>53</td>\n",
              "      <td>40</td>\n",
              "      <td>2</td>\n",
              "      <td>4</td>\n",
              "      <td>4</td>\n",
              "      <td>1</td>\n",
              "    </tr>\n",
              "    <tr>\n",
              "      <th>1</th>\n",
              "      <td>233</td>\n",
              "      <td>65</td>\n",
              "      <td>40</td>\n",
              "      <td>3</td>\n",
              "      <td>0</td>\n",
              "      <td>1</td>\n",
              "      <td>0</td>\n",
              "    </tr>\n",
              "  </tbody>\n",
              "</table>\n",
              "</div>"
            ],
            "text/plain": [
              "Parch       0   1   2  3  4  5  6\n",
              "Survived                         \n",
              "0         445  53  40  2  4  4  1\n",
              "1         233  65  40  3  0  1  0"
            ]
          },
          "metadata": {
            "tags": []
          },
          "execution_count": 24
        }
      ]
    },
    {
      "cell_type": "code",
      "metadata": {
        "id": "U6yI6fD40rbQ",
        "outputId": "f74b201c-fec0-44ac-d63a-f35f104645cb",
        "colab": {
          "base_uri": "https://localhost:8080/",
          "height": 0
        }
      },
      "source": [
        "# Distribution of target variable\n",
        "titanicdt.Survived.value_counts(normalize=True)*100"
      ],
      "execution_count": 25,
      "outputs": [
        {
          "output_type": "execute_result",
          "data": {
            "text/plain": [
              "0    61.616162\n",
              "1    38.383838\n",
              "Name: Survived, dtype: float64"
            ]
          },
          "metadata": {
            "tags": []
          },
          "execution_count": 25
        }
      ]
    },
    {
      "cell_type": "markdown",
      "metadata": {
        "id": "B-JYQRJJ1CBE"
      },
      "source": [
        "The target variable survived is imbalanced  with 61% belong to class 0 and 38% class 1"
      ]
    },
    {
      "cell_type": "markdown",
      "metadata": {
        "id": "GJI0fBM-0KQu"
      },
      "source": [
        "## Data Modelling"
      ]
    },
    {
      "cell_type": "code",
      "metadata": {
        "id": "aKJgsEIvz8s3"
      },
      "source": [
        "# Encode sex and embarked features\n",
        "titanicdt['Sex'] = titanicdt.Sex.map({'male':0, 'female':1})\n",
        "titanicdt['Embarked'] = titanicdt.Embarked.map({'C':0,'S':1,'Q':2})"
      ],
      "execution_count": 26,
      "outputs": []
    },
    {
      "cell_type": "code",
      "metadata": {
        "id": "I66nhAO14SHp"
      },
      "source": [
        "# Split data into train and test sets\n",
        "X = titanicdt.drop(['Survived'],axis=1)\n",
        "Y = titanicdt['Survived']\n",
        "\n",
        "# Stratify Y variable\n",
        "x_train, x_test, y_train, y_test = train_test_split(X, Y, test_size=.3, random_state=23, stratify = Y)"
      ],
      "execution_count": 27,
      "outputs": []
    },
    {
      "cell_type": "code",
      "metadata": {
        "id": "0vb5atJc36Of",
        "outputId": "ee180728-8415-4119-e082-6bd331c15469",
        "colab": {
          "base_uri": "https://localhost:8080/",
          "height": 33
        }
      },
      "source": [
        "# Perform linear discriminant analysis on data\n",
        "lda = LinearDiscriminantAnalysis(n_components=2)\n",
        "\n",
        "lda.fit(x_train, y_train)\n",
        "\n",
        "lda.explained_variance_ratio_\n"
      ],
      "execution_count": 28,
      "outputs": [
        {
          "output_type": "execute_result",
          "data": {
            "text/plain": [
              "array([1.])"
            ]
          },
          "metadata": {
            "tags": []
          },
          "execution_count": 28
        }
      ]
    },
    {
      "cell_type": "code",
      "metadata": {
        "id": "gAqF6ePG53zD",
        "outputId": "8a1aa012-04b0-41d7-a443-185b18fb6d0e",
        "colab": {
          "base_uri": "https://localhost:8080/",
          "height": 163
        }
      },
      "source": [
        "# The first discriminant explains 100% variance in our data. Attempt to classify survival rate with lda\n",
        "lda_pred = lda.predict(x_test)\n",
        "print(classification_report(y_test, lda_pred))"
      ],
      "execution_count": 29,
      "outputs": [
        {
          "output_type": "stream",
          "text": [
            "              precision    recall  f1-score   support\n",
            "\n",
            "           0       0.81      0.88      0.84       165\n",
            "           1       0.77      0.66      0.71       103\n",
            "\n",
            "    accuracy                           0.79       268\n",
            "   macro avg       0.79      0.77      0.78       268\n",
            "weighted avg       0.79      0.79      0.79       268\n",
            "\n"
          ],
          "name": "stdout"
        }
      ]
    },
    {
      "cell_type": "markdown",
      "metadata": {
        "id": "dKmx7bQ-9Ux0"
      },
      "source": [
        "Our LDA classifier has an overall accuracy of 79%. Recall and precison scores for the Survived class are lower."
      ]
    },
    {
      "cell_type": "code",
      "metadata": {
        "id": "nJMsN9LY9Q2w",
        "outputId": "7a94b3f3-7e08-4e84-d19e-65d9ed503d77",
        "colab": {
          "base_uri": "https://localhost:8080/",
          "height": 33
        }
      },
      "source": [
        "# Get the roc_auc_scores due to the imbalance in our classes\n",
        "print(roc_auc_score(y_test, lda.predict_proba(x_test)[:, 1]))"
      ],
      "execution_count": 30,
      "outputs": [
        {
          "output_type": "stream",
          "text": [
            "0.8235069137981759\n"
          ],
          "name": "stdout"
        }
      ]
    },
    {
      "cell_type": "markdown",
      "metadata": {
        "id": "ql25C8cz-jmh"
      },
      "source": [
        "The LDA classifier has a fairly high roc_auc score: 82% for our positive class."
      ]
    },
    {
      "cell_type": "code",
      "metadata": {
        "id": "vRHd6z7v-i1s"
      },
      "source": [
        "# Transform train and test features\n",
        "x_train_lda = lda.transform(x_train)\n",
        "x_test_lda = lda.transform(x_test)"
      ],
      "execution_count": 31,
      "outputs": []
    },
    {
      "cell_type": "code",
      "metadata": {
        "id": "VAiGOmKy-f5M"
      },
      "source": [
        "# Scale x train and x test with a standard scaler\n",
        "scaler = StandardScaler().fit(x_train)\n",
        "x_train = scaler.transform(x_train)\n",
        "x_test = scaler.transform(x_test)"
      ],
      "execution_count": 32,
      "outputs": []
    },
    {
      "cell_type": "code",
      "metadata": {
        "id": "KjbtPFKmAUCT"
      },
      "source": [
        "# Create parameter grid and set up grid search\n",
        "parameters = {\n",
        "    'n_neighbors': np.arange(5, 11),\n",
        "    'p':[1,2],\n",
        "    'weights': ['uniform', 'distance'],\n",
        "    'leaf_size': np.arange(20, 60, 10),\n",
        "    'metric': ['euclidean','manhattan'],\n",
        "    'algorithm': ['kd_tree','ball_tree','brute']\n",
        "}\n",
        "\n",
        "grid_knn = GridSearchCV(KNeighborsClassifier(), param_grid=parameters, scoring='roc_auc', cv=10)"
      ],
      "execution_count": 33,
      "outputs": []
    },
    {
      "cell_type": "code",
      "metadata": {
        "id": "HlAnVBZbAvMm"
      },
      "source": [
        "# Fit with scaled features and lda features\n",
        "scaled_features = grid_knn.fit(x_train, y_train)\n",
        "lda_features = grid_knn.fit(x_train_lda,y_train)"
      ],
      "execution_count": 34,
      "outputs": []
    },
    {
      "cell_type": "code",
      "metadata": {
        "id": "WDWt7QeoBNDR",
        "outputId": "0b32aa83-8bf7-4f6b-94b1-0e4da573995b",
        "colab": {
          "base_uri": "https://localhost:8080/",
          "height": 50
        }
      },
      "source": [
        "print(f'Scaled X: {scaled_features.best_score_}\\nLDA Transformed X: {lda_features.best_score_}')"
      ],
      "execution_count": 35,
      "outputs": [
        {
          "output_type": "stream",
          "text": [
            "Scaled X: 0.8359599004478868\n",
            "LDA Transformed X: 0.8359599004478868\n"
          ],
          "name": "stdout"
        }
      ]
    },
    {
      "cell_type": "markdown",
      "metadata": {
        "id": "KKdfNUpgD7jR"
      },
      "source": [
        "Similar performance between scaled features and lda transformed features."
      ]
    },
    {
      "cell_type": "code",
      "metadata": {
        "id": "IIm3uksEC0g5",
        "outputId": "e47be2b2-2b57-4048-b016-da417be2f80f",
        "colab": {
          "base_uri": "https://localhost:8080/",
          "height": 50
        }
      },
      "source": [
        "print(f'Scaled X: {scaled_features.best_params_}\\nLDA Transformed X: {lda_features.best_params_}')"
      ],
      "execution_count": 36,
      "outputs": [
        {
          "output_type": "stream",
          "text": [
            "Scaled X: {'algorithm': 'kd_tree', 'leaf_size': 20, 'metric': 'euclidean', 'n_neighbors': 9, 'p': 1, 'weights': 'uniform'}\n",
            "LDA Transformed X: {'algorithm': 'kd_tree', 'leaf_size': 20, 'metric': 'euclidean', 'n_neighbors': 9, 'p': 1, 'weights': 'uniform'}\n"
          ],
          "name": "stdout"
        }
      ]
    },
    {
      "cell_type": "code",
      "metadata": {
        "id": "8tRBeLQ8EU3X",
        "outputId": "9d374ea7-c60f-4725-d00c-24850414f443",
        "colab": {
          "base_uri": "https://localhost:8080/",
          "height": 163
        }
      },
      "source": [
        "knn_lda =  KNeighborsClassifier(n_neighbors=9, algorithm='kd_tree',leaf_size=20, metric='euclidean',p=1).fit(x_train_lda, y_train)\n",
        "print(classification_report(y_test,knn_lda.predict(x_test_lda)))"
      ],
      "execution_count": 37,
      "outputs": [
        {
          "output_type": "stream",
          "text": [
            "              precision    recall  f1-score   support\n",
            "\n",
            "           0       0.80      0.90      0.84       165\n",
            "           1       0.79      0.63      0.70       103\n",
            "\n",
            "    accuracy                           0.79       268\n",
            "   macro avg       0.79      0.76      0.77       268\n",
            "weighted avg       0.79      0.79      0.79       268\n",
            "\n"
          ],
          "name": "stdout"
        }
      ]
    },
    {
      "cell_type": "code",
      "metadata": {
        "id": "y5Y4GIIwSS6N",
        "outputId": "a11139cc-70ba-4cb9-84c1-fe28ec6ac8c9",
        "colab": {
          "base_uri": "https://localhost:8080/",
          "height": 33
        }
      },
      "source": [
        "# Get the roc_auc_scores due to the imbalance in our classes\n",
        "print(roc_auc_score(y_test, knn_lda.predict_proba(x_test_lda)[:, 1]))"
      ],
      "execution_count": 39,
      "outputs": [
        {
          "output_type": "stream",
          "text": [
            "0.8107678729037953\n"
          ],
          "name": "stdout"
        }
      ]
    },
    {
      "cell_type": "code",
      "metadata": {
        "id": "oeDpA2TOOnZy",
        "outputId": "597cd5cd-6c34-4c03-8b69-70dc9ea580cb",
        "colab": {
          "base_uri": "https://localhost:8080/",
          "height": 105
        }
      },
      "source": [
        "# Get confusion matrix\n",
        "matrix = confusion_matrix(y_test, knn_lda.predict(x_test_lda))\n",
        "pd.DataFrame(matrix, columns=[0,1], index=[0,1])"
      ],
      "execution_count": 40,
      "outputs": [
        {
          "output_type": "execute_result",
          "data": {
            "text/html": [
              "<div>\n",
              "<style scoped>\n",
              "    .dataframe tbody tr th:only-of-type {\n",
              "        vertical-align: middle;\n",
              "    }\n",
              "\n",
              "    .dataframe tbody tr th {\n",
              "        vertical-align: top;\n",
              "    }\n",
              "\n",
              "    .dataframe thead th {\n",
              "        text-align: right;\n",
              "    }\n",
              "</style>\n",
              "<table border=\"1\" class=\"dataframe\">\n",
              "  <thead>\n",
              "    <tr style=\"text-align: right;\">\n",
              "      <th></th>\n",
              "      <th>0</th>\n",
              "      <th>1</th>\n",
              "    </tr>\n",
              "  </thead>\n",
              "  <tbody>\n",
              "    <tr>\n",
              "      <th>0</th>\n",
              "      <td>148</td>\n",
              "      <td>17</td>\n",
              "    </tr>\n",
              "    <tr>\n",
              "      <th>1</th>\n",
              "      <td>38</td>\n",
              "      <td>65</td>\n",
              "    </tr>\n",
              "  </tbody>\n",
              "</table>\n",
              "</div>"
            ],
            "text/plain": [
              "     0   1\n",
              "0  148  17\n",
              "1   38  65"
            ]
          },
          "metadata": {
            "tags": []
          },
          "execution_count": 40
        }
      ]
    },
    {
      "cell_type": "markdown",
      "metadata": {
        "id": "afvyYo5NPbQI"
      },
      "source": [
        "The KNN model fitted with LDA transformed data has an accuracy of 79% with higher false negatives than false positives."
      ]
    },
    {
      "cell_type": "code",
      "metadata": {
        "id": "SqHX88opE_i9",
        "outputId": "f96255b2-3afc-49f2-c114-e5816401dc91",
        "colab": {
          "base_uri": "https://localhost:8080/",
          "height": 163
        }
      },
      "source": [
        "knn_scaled =  KNeighborsClassifier(n_neighbors=9, algorithm='kd_tree',leaf_size=20, metric='euclidean',p=1).fit(x_train, y_train)\n",
        "print(classification_report(y_test,knn_scaled.predict(x_test)))"
      ],
      "execution_count": 41,
      "outputs": [
        {
          "output_type": "stream",
          "text": [
            "              precision    recall  f1-score   support\n",
            "\n",
            "           0       0.81      0.89      0.85       165\n",
            "           1       0.79      0.66      0.72       103\n",
            "\n",
            "    accuracy                           0.80       268\n",
            "   macro avg       0.80      0.78      0.78       268\n",
            "weighted avg       0.80      0.80      0.80       268\n",
            "\n"
          ],
          "name": "stdout"
        }
      ]
    },
    {
      "cell_type": "code",
      "metadata": {
        "id": "Qlam7gqaSvvA",
        "outputId": "810e930c-c4ce-49a9-966d-251f11e78619",
        "colab": {
          "base_uri": "https://localhost:8080/",
          "height": 33
        }
      },
      "source": [
        "# Get the roc_auc_scores due to the imbalance in our classes\n",
        "print(roc_auc_score(y_test, knn_scaled.predict_proba(x_test)[:, 1]))"
      ],
      "execution_count": 42,
      "outputs": [
        {
          "output_type": "stream",
          "text": [
            "0.8368637834657251\n"
          ],
          "name": "stdout"
        }
      ]
    },
    {
      "cell_type": "code",
      "metadata": {
        "id": "3XLWFgwRQWsr",
        "outputId": "f9411654-5d46-4c5b-dfab-64b3fa74d750",
        "colab": {
          "base_uri": "https://localhost:8080/",
          "height": 105
        }
      },
      "source": [
        "# Get confusion matrix\n",
        "matrix = confusion_matrix(y_test, knn_scaled.predict(x_test))\n",
        "pd.DataFrame(matrix, columns=[0,1], index=[0,1])"
      ],
      "execution_count": 43,
      "outputs": [
        {
          "output_type": "execute_result",
          "data": {
            "text/html": [
              "<div>\n",
              "<style scoped>\n",
              "    .dataframe tbody tr th:only-of-type {\n",
              "        vertical-align: middle;\n",
              "    }\n",
              "\n",
              "    .dataframe tbody tr th {\n",
              "        vertical-align: top;\n",
              "    }\n",
              "\n",
              "    .dataframe thead th {\n",
              "        text-align: right;\n",
              "    }\n",
              "</style>\n",
              "<table border=\"1\" class=\"dataframe\">\n",
              "  <thead>\n",
              "    <tr style=\"text-align: right;\">\n",
              "      <th></th>\n",
              "      <th>0</th>\n",
              "      <th>1</th>\n",
              "    </tr>\n",
              "  </thead>\n",
              "  <tbody>\n",
              "    <tr>\n",
              "      <th>0</th>\n",
              "      <td>147</td>\n",
              "      <td>18</td>\n",
              "    </tr>\n",
              "    <tr>\n",
              "      <th>1</th>\n",
              "      <td>35</td>\n",
              "      <td>68</td>\n",
              "    </tr>\n",
              "  </tbody>\n",
              "</table>\n",
              "</div>"
            ],
            "text/plain": [
              "     0   1\n",
              "0  147  18\n",
              "1   35  68"
            ]
          },
          "metadata": {
            "tags": []
          },
          "execution_count": 43
        }
      ]
    },
    {
      "cell_type": "markdown",
      "metadata": {
        "id": "sHHFstSDQVlg"
      },
      "source": [
        "The KNN model fitted with scaled data has an accuracy of 80% with higher false negatives than false positives."
      ]
    },
    {
      "cell_type": "code",
      "metadata": {
        "id": "rnfjEhfZH9Rr"
      },
      "source": [
        "# Apply SMOTE to handle class imbalance\n",
        "X = titanicdt.drop(['Survived'],axis=1)\n",
        "Y = titanicdt['Survived']\n",
        "\n",
        "# Apply smote to x and y\n",
        "sm = SMOTE(sampling_strategy='auto', k_neighbors=1, random_state=42)\n",
        "X_res, y_res = sm.fit_resample(X, Y)\n",
        "\n",
        "# Split data into train and test sets\n",
        "x_train, x_test, y_train, y_test = train_test_split(X_res, y_res, test_size=.4, random_state=23)"
      ],
      "execution_count": 44,
      "outputs": []
    },
    {
      "cell_type": "code",
      "metadata": {
        "id": "AJbVFx9qOPre",
        "outputId": "752eb18b-449f-4b24-ecc8-2f4dbd60d11c",
        "colab": {
          "base_uri": "https://localhost:8080/",
          "height": 163
        }
      },
      "source": [
        "# Scale x train and x test with a standard scaler\n",
        "scaler = StandardScaler().fit(x_train)\n",
        "x_train = scaler.transform(x_train)\n",
        "x_test = scaler.transform(x_test)\n",
        "\n",
        "knn_scaled =  KNeighborsClassifier(n_neighbors=9, algorithm='kd_tree',leaf_size=20, metric='euclidean',p=1).fit(x_train, y_train)\n",
        "print(classification_report(y_test,knn_scaled.predict(x_test)))"
      ],
      "execution_count": 45,
      "outputs": [
        {
          "output_type": "stream",
          "text": [
            "              precision    recall  f1-score   support\n",
            "\n",
            "           0       0.81      0.80      0.80       232\n",
            "           1       0.78      0.78      0.78       208\n",
            "\n",
            "    accuracy                           0.79       440\n",
            "   macro avg       0.79      0.79      0.79       440\n",
            "weighted avg       0.79      0.79      0.79       440\n",
            "\n"
          ],
          "name": "stdout"
        }
      ]
    },
    {
      "cell_type": "code",
      "metadata": {
        "id": "f-b1ZMgzY04a",
        "outputId": "caf1f7f7-47b9-442a-bc38-91cb478cbb7f",
        "colab": {
          "base_uri": "https://localhost:8080/",
          "height": 33
        }
      },
      "source": [
        "# Get the roc_auc_scores due to the imbalance in our classes\n",
        "print(roc_auc_score(y_test, knn_scaled.predict_proba(x_test)[:, 1]))"
      ],
      "execution_count": 46,
      "outputs": [
        {
          "output_type": "stream",
          "text": [
            "0.853582974137931\n"
          ],
          "name": "stdout"
        }
      ]
    },
    {
      "cell_type": "markdown",
      "metadata": {
        "id": "lAjCLN7PQ3B0"
      },
      "source": [
        "Handling the class imbalance in our data does not improve the overall accuracy of the model, however there is increase in the roc_auc_score of our model to 85%"
      ]
    },
    {
      "cell_type": "code",
      "metadata": {
        "id": "lXWBZ4ubQziJ",
        "outputId": "13bfc477-7321-4b16-c663-f167b0da9a52",
        "colab": {
          "base_uri": "https://localhost:8080/",
          "height": 163
        }
      },
      "source": [
        "# Try a different test size\n",
        "X = titanicdt.drop(['Survived'],axis=1)\n",
        "Y = titanicdt['Survived']\n",
        "\n",
        "# Split data into train and test sets, use test size 20%\n",
        "x_train, x_test, y_train, y_test = train_test_split(X, Y, test_size=.2, random_state=72)\n",
        "\n",
        "# Scale x train and x test with a standard scaler\n",
        "scaler = StandardScaler().fit(x_train)\n",
        "x_train = scaler.transform(x_train)\n",
        "x_test = scaler.transform(x_test)\n",
        "\n",
        "knn_scaled =  KNeighborsClassifier(n_neighbors=9, algorithm='kd_tree',leaf_size=20, metric='euclidean',p=1, weights='distance').fit(x_train, y_train)\n",
        "print(classification_report(y_test,knn_scaled.predict(x_test)))"
      ],
      "execution_count": 47,
      "outputs": [
        {
          "output_type": "stream",
          "text": [
            "              precision    recall  f1-score   support\n",
            "\n",
            "           0       0.86      0.78      0.81       107\n",
            "           1       0.71      0.81      0.75        72\n",
            "\n",
            "    accuracy                           0.79       179\n",
            "   macro avg       0.78      0.79      0.78       179\n",
            "weighted avg       0.80      0.79      0.79       179\n",
            "\n"
          ],
          "name": "stdout"
        }
      ]
    },
    {
      "cell_type": "code",
      "metadata": {
        "id": "rClLVociR6Mu",
        "outputId": "3ba31d89-7bc1-4507-d7eb-92385b7462e5",
        "colab": {
          "base_uri": "https://localhost:8080/",
          "height": 33
        }
      },
      "source": [
        "# Get the roc_auc_scores due to the imbalance in our classes\n",
        "print(roc_auc_score(y_test, knn_scaled.predict_proba(x_test)[:, 1]))"
      ],
      "execution_count": 48,
      "outputs": [
        {
          "output_type": "stream",
          "text": [
            "0.8473520249221183\n"
          ],
          "name": "stdout"
        }
      ]
    },
    {
      "cell_type": "code",
      "metadata": {
        "id": "RKYBaZKkRoR4",
        "outputId": "648dbf63-c223-4854-f16a-e3c1fd41f6e5",
        "colab": {
          "base_uri": "https://localhost:8080/",
          "height": 105
        }
      },
      "source": [
        "# Get confusion matrix\n",
        "matrix = confusion_matrix(y_test, knn_scaled.predict(x_test))\n",
        "pd.DataFrame(matrix, columns=[0,1], index=[0,1])"
      ],
      "execution_count": 49,
      "outputs": [
        {
          "output_type": "execute_result",
          "data": {
            "text/html": [
              "<div>\n",
              "<style scoped>\n",
              "    .dataframe tbody tr th:only-of-type {\n",
              "        vertical-align: middle;\n",
              "    }\n",
              "\n",
              "    .dataframe tbody tr th {\n",
              "        vertical-align: top;\n",
              "    }\n",
              "\n",
              "    .dataframe thead th {\n",
              "        text-align: right;\n",
              "    }\n",
              "</style>\n",
              "<table border=\"1\" class=\"dataframe\">\n",
              "  <thead>\n",
              "    <tr style=\"text-align: right;\">\n",
              "      <th></th>\n",
              "      <th>0</th>\n",
              "      <th>1</th>\n",
              "    </tr>\n",
              "  </thead>\n",
              "  <tbody>\n",
              "    <tr>\n",
              "      <th>0</th>\n",
              "      <td>83</td>\n",
              "      <td>24</td>\n",
              "    </tr>\n",
              "    <tr>\n",
              "      <th>1</th>\n",
              "      <td>14</td>\n",
              "      <td>58</td>\n",
              "    </tr>\n",
              "  </tbody>\n",
              "</table>\n",
              "</div>"
            ],
            "text/plain": [
              "    0   1\n",
              "0  83  24\n",
              "1  14  58"
            ]
          },
          "metadata": {
            "tags": []
          },
          "execution_count": 49
        }
      ]
    },
    {
      "cell_type": "markdown",
      "metadata": {
        "id": "P6hxgabxR2hd"
      },
      "source": [
        "Overall accuracy: 79%\n",
        "\n",
        "ROC_AUC_Score: 84%"
      ]
    },
    {
      "cell_type": "markdown",
      "metadata": {
        "id": "bP_fivMFZc3u"
      },
      "source": [
        "## Conclusion."
      ]
    },
    {
      "cell_type": "markdown",
      "metadata": {
        "id": "k7zDSTdtZnNf"
      },
      "source": [
        "The best knn model has an overall accuracy of 80%. However after application of SMOTE to handle class imbalance, model accuracy drops to 79% but the roc_auc_score increases to 85%. "
      ]
    },
    {
      "cell_type": "markdown",
      "metadata": {
        "id": "c2AMM-B7a1e0"
      },
      "source": [
        "## Challenging the Solution\n",
        "\n",
        "#### a) Did we have the right question?\n",
        "Yes.\n",
        "\n",
        "#### b) Did we have the right data?\n",
        "Yes. The data available for analysis was suitable for analysis, however further EDA should be performed to investigate certain anomalies in the data such as paseengers who paid no fare, were these passengers cabin crew?\n",
        "\n",
        "#### c) What can be done to improve the solution?\n",
        "Testing cosine similarity on our data instead of distance based measures."
      ]
    },
    {
      "cell_type": "code",
      "metadata": {
        "id": "gPPxbBcZRuTg"
      },
      "source": [
        ""
      ],
      "execution_count": null,
      "outputs": []
    }
  ]
}